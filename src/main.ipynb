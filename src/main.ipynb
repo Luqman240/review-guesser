{
 "cells": [
  {
   "cell_type": "code",
   "execution_count": 97,
   "id": "3b75b535",
   "metadata": {},
   "outputs": [],
   "source": [
    "import pandas as pd\n",
    "import numpy as np\n",
    "import re\n",
    "import nltk\n",
    "from nltk.corpus import stopwords"
   ]
  },
  {
   "cell_type": "markdown",
   "id": "6f7ac00d",
   "metadata": {},
   "source": [
    "# Data Preprocessing"
   ]
  },
  {
   "cell_type": "code",
   "execution_count": 98,
   "id": "5465c044",
   "metadata": {},
   "outputs": [],
   "source": [
    "train = pd.read_csv('../dataset/amazon_review_fine-grained_5_classes_csv/train.csv')\n",
    "test = pd.read_csv('../dataset/amazon_review_fine-grained_5_classes_csv/test.csv')"
   ]
  },
  {
   "cell_type": "code",
   "execution_count": 99,
   "id": "42718725",
   "metadata": {},
   "outputs": [
    {
     "data": {
      "text/html": [
       "<div>\n",
       "<style scoped>\n",
       "    .dataframe tbody tr th:only-of-type {\n",
       "        vertical-align: middle;\n",
       "    }\n",
       "\n",
       "    .dataframe tbody tr th {\n",
       "        vertical-align: top;\n",
       "    }\n",
       "\n",
       "    .dataframe thead th {\n",
       "        text-align: right;\n",
       "    }\n",
       "</style>\n",
       "<table border=\"1\" class=\"dataframe\">\n",
       "  <thead>\n",
       "    <tr style=\"text-align: right;\">\n",
       "      <th></th>\n",
       "      <th>class_index</th>\n",
       "      <th>review_title</th>\n",
       "      <th>review_text</th>\n",
       "    </tr>\n",
       "  </thead>\n",
       "  <tbody>\n",
       "    <tr>\n",
       "      <th>0</th>\n",
       "      <td>3</td>\n",
       "      <td>more like funchuck</td>\n",
       "      <td>Gave this to my dad for a gag gift after direc...</td>\n",
       "    </tr>\n",
       "    <tr>\n",
       "      <th>1</th>\n",
       "      <td>5</td>\n",
       "      <td>Inspiring</td>\n",
       "      <td>I hope a lot of people hear this cd. We need m...</td>\n",
       "    </tr>\n",
       "    <tr>\n",
       "      <th>2</th>\n",
       "      <td>5</td>\n",
       "      <td>The best soundtrack ever to anything.</td>\n",
       "      <td>I'm reading a lot of reviews saying that this ...</td>\n",
       "    </tr>\n",
       "    <tr>\n",
       "      <th>3</th>\n",
       "      <td>4</td>\n",
       "      <td>Chrono Cross OST</td>\n",
       "      <td>The music of Yasunori Misuda is without questi...</td>\n",
       "    </tr>\n",
       "    <tr>\n",
       "      <th>4</th>\n",
       "      <td>5</td>\n",
       "      <td>Too good to be true</td>\n",
       "      <td>Probably the greatest soundtrack in history! U...</td>\n",
       "    </tr>\n",
       "    <tr>\n",
       "      <th>...</th>\n",
       "      <td>...</td>\n",
       "      <td>...</td>\n",
       "      <td>...</td>\n",
       "    </tr>\n",
       "    <tr>\n",
       "      <th>649995</th>\n",
       "      <td>5</td>\n",
       "      <td>Pretty Cool!</td>\n",
       "      <td>We got it for our mom's birthday. She LOVES it...</td>\n",
       "    </tr>\n",
       "    <tr>\n",
       "      <th>649996</th>\n",
       "      <td>5</td>\n",
       "      <td>great cd</td>\n",
       "      <td>this cd is very good. i especially love \"cats ...</td>\n",
       "    </tr>\n",
       "    <tr>\n",
       "      <th>649997</th>\n",
       "      <td>2</td>\n",
       "      <td>An interesting look into Boston's comedy clubs</td>\n",
       "      <td>This was a good documentary on the history of ...</td>\n",
       "    </tr>\n",
       "    <tr>\n",
       "      <th>649998</th>\n",
       "      <td>5</td>\n",
       "      <td>Du vol...pour les cowboys!</td>\n",
       "      <td>Avez-vous déjà vu un CD double et un DVD avec ...</td>\n",
       "    </tr>\n",
       "    <tr>\n",
       "      <th>649999</th>\n",
       "      <td>4</td>\n",
       "      <td>A Companion Read To GUNS, GERMS, AND STEEL</td>\n",
       "      <td>If you like books that offer explanations for ...</td>\n",
       "    </tr>\n",
       "  </tbody>\n",
       "</table>\n",
       "<p>3650000 rows × 3 columns</p>\n",
       "</div>"
      ],
      "text/plain": [
       "        class_index                                    review_title  \\\n",
       "0                 3                              more like funchuck   \n",
       "1                 5                                       Inspiring   \n",
       "2                 5           The best soundtrack ever to anything.   \n",
       "3                 4                                Chrono Cross OST   \n",
       "4                 5                             Too good to be true   \n",
       "...             ...                                             ...   \n",
       "649995            5                                    Pretty Cool!   \n",
       "649996            5                                        great cd   \n",
       "649997            2  An interesting look into Boston's comedy clubs   \n",
       "649998            5                      Du vol...pour les cowboys!   \n",
       "649999            4      A Companion Read To GUNS, GERMS, AND STEEL   \n",
       "\n",
       "                                              review_text  \n",
       "0       Gave this to my dad for a gag gift after direc...  \n",
       "1       I hope a lot of people hear this cd. We need m...  \n",
       "2       I'm reading a lot of reviews saying that this ...  \n",
       "3       The music of Yasunori Misuda is without questi...  \n",
       "4       Probably the greatest soundtrack in history! U...  \n",
       "...                                                   ...  \n",
       "649995  We got it for our mom's birthday. She LOVES it...  \n",
       "649996  this cd is very good. i especially love \"cats ...  \n",
       "649997  This was a good documentary on the history of ...  \n",
       "649998  Avez-vous déjà vu un CD double et un DVD avec ...  \n",
       "649999  If you like books that offer explanations for ...  \n",
       "\n",
       "[3650000 rows x 3 columns]"
      ]
     },
     "execution_count": 99,
     "metadata": {},
     "output_type": "execute_result"
    }
   ],
   "source": [
    "dataset = pd.concat([train, test], axis=0)\n",
    "dataset"
   ]
  },
  {
   "cell_type": "code",
   "execution_count": 100,
   "id": "ac2de846",
   "metadata": {},
   "outputs": [
    {
     "data": {
      "text/html": [
       "<div>\n",
       "<style scoped>\n",
       "    .dataframe tbody tr th:only-of-type {\n",
       "        vertical-align: middle;\n",
       "    }\n",
       "\n",
       "    .dataframe tbody tr th {\n",
       "        vertical-align: top;\n",
       "    }\n",
       "\n",
       "    .dataframe thead th {\n",
       "        text-align: right;\n",
       "    }\n",
       "</style>\n",
       "<table border=\"1\" class=\"dataframe\">\n",
       "  <thead>\n",
       "    <tr style=\"text-align: right;\">\n",
       "      <th></th>\n",
       "      <th>class_index</th>\n",
       "      <th>review_text</th>\n",
       "    </tr>\n",
       "  </thead>\n",
       "  <tbody>\n",
       "    <tr>\n",
       "      <th>0</th>\n",
       "      <td>3</td>\n",
       "      <td>Gave this to my dad for a gag gift after direc...</td>\n",
       "    </tr>\n",
       "    <tr>\n",
       "      <th>1</th>\n",
       "      <td>5</td>\n",
       "      <td>I hope a lot of people hear this cd. We need m...</td>\n",
       "    </tr>\n",
       "    <tr>\n",
       "      <th>2</th>\n",
       "      <td>5</td>\n",
       "      <td>I'm reading a lot of reviews saying that this ...</td>\n",
       "    </tr>\n",
       "    <tr>\n",
       "      <th>3</th>\n",
       "      <td>4</td>\n",
       "      <td>The music of Yasunori Misuda is without questi...</td>\n",
       "    </tr>\n",
       "    <tr>\n",
       "      <th>4</th>\n",
       "      <td>5</td>\n",
       "      <td>Probably the greatest soundtrack in history! U...</td>\n",
       "    </tr>\n",
       "    <tr>\n",
       "      <th>...</th>\n",
       "      <td>...</td>\n",
       "      <td>...</td>\n",
       "    </tr>\n",
       "    <tr>\n",
       "      <th>649995</th>\n",
       "      <td>5</td>\n",
       "      <td>We got it for our mom's birthday. She LOVES it...</td>\n",
       "    </tr>\n",
       "    <tr>\n",
       "      <th>649996</th>\n",
       "      <td>5</td>\n",
       "      <td>this cd is very good. i especially love \"cats ...</td>\n",
       "    </tr>\n",
       "    <tr>\n",
       "      <th>649997</th>\n",
       "      <td>2</td>\n",
       "      <td>This was a good documentary on the history of ...</td>\n",
       "    </tr>\n",
       "    <tr>\n",
       "      <th>649998</th>\n",
       "      <td>5</td>\n",
       "      <td>Avez-vous déjà vu un CD double et un DVD avec ...</td>\n",
       "    </tr>\n",
       "    <tr>\n",
       "      <th>649999</th>\n",
       "      <td>4</td>\n",
       "      <td>If you like books that offer explanations for ...</td>\n",
       "    </tr>\n",
       "  </tbody>\n",
       "</table>\n",
       "<p>3650000 rows × 2 columns</p>\n",
       "</div>"
      ],
      "text/plain": [
       "        class_index                                        review_text\n",
       "0                 3  Gave this to my dad for a gag gift after direc...\n",
       "1                 5  I hope a lot of people hear this cd. We need m...\n",
       "2                 5  I'm reading a lot of reviews saying that this ...\n",
       "3                 4  The music of Yasunori Misuda is without questi...\n",
       "4                 5  Probably the greatest soundtrack in history! U...\n",
       "...             ...                                                ...\n",
       "649995            5  We got it for our mom's birthday. She LOVES it...\n",
       "649996            5  this cd is very good. i especially love \"cats ...\n",
       "649997            2  This was a good documentary on the history of ...\n",
       "649998            5  Avez-vous déjà vu un CD double et un DVD avec ...\n",
       "649999            4  If you like books that offer explanations for ...\n",
       "\n",
       "[3650000 rows x 2 columns]"
      ]
     },
     "execution_count": 100,
     "metadata": {},
     "output_type": "execute_result"
    }
   ],
   "source": [
    "dataset.drop(columns=['review_title'], inplace=True)\n",
    "dataset"
   ]
  },
  {
   "cell_type": "code",
   "execution_count": 101,
   "id": "dee3da3f",
   "metadata": {},
   "outputs": [
    {
     "data": {
      "text/html": [
       "<div>\n",
       "<style scoped>\n",
       "    .dataframe tbody tr th:only-of-type {\n",
       "        vertical-align: middle;\n",
       "    }\n",
       "\n",
       "    .dataframe tbody tr th {\n",
       "        vertical-align: top;\n",
       "    }\n",
       "\n",
       "    .dataframe thead th {\n",
       "        text-align: right;\n",
       "    }\n",
       "</style>\n",
       "<table border=\"1\" class=\"dataframe\">\n",
       "  <thead>\n",
       "    <tr style=\"text-align: right;\">\n",
       "      <th></th>\n",
       "      <th>class_index</th>\n",
       "      <th>review_text</th>\n",
       "    </tr>\n",
       "  </thead>\n",
       "  <tbody>\n",
       "    <tr>\n",
       "      <th>534255</th>\n",
       "      <td>2</td>\n",
       "      <td>I thought after \"The Dante Club\" that the auth...</td>\n",
       "    </tr>\n",
       "    <tr>\n",
       "      <th>2244919</th>\n",
       "      <td>5</td>\n",
       "      <td>This is a great resource for a home/classroom ...</td>\n",
       "    </tr>\n",
       "    <tr>\n",
       "      <th>2800737</th>\n",
       "      <td>2</td>\n",
       "      <td>Accessible blades without opening is nice opti...</td>\n",
       "    </tr>\n",
       "    <tr>\n",
       "      <th>2129179</th>\n",
       "      <td>3</td>\n",
       "      <td>I liked the format of the book, and the explan...</td>\n",
       "    </tr>\n",
       "    <tr>\n",
       "      <th>1158569</th>\n",
       "      <td>3</td>\n",
       "      <td>I loved this product when I got it. It didn't ...</td>\n",
       "    </tr>\n",
       "    <tr>\n",
       "      <th>...</th>\n",
       "      <td>...</td>\n",
       "      <td>...</td>\n",
       "    </tr>\n",
       "    <tr>\n",
       "      <th>200472</th>\n",
       "      <td>5</td>\n",
       "      <td>This CD rules! Every track is awesome and well...</td>\n",
       "    </tr>\n",
       "    <tr>\n",
       "      <th>2196912</th>\n",
       "      <td>2</td>\n",
       "      <td>When I saw this game I thought it would be one...</td>\n",
       "    </tr>\n",
       "    <tr>\n",
       "      <th>1929594</th>\n",
       "      <td>1</td>\n",
       "      <td>The keypad did not even last 2 days. I can not...</td>\n",
       "    </tr>\n",
       "    <tr>\n",
       "      <th>731292</th>\n",
       "      <td>4</td>\n",
       "      <td>I use this book to teach a beginning workshop ...</td>\n",
       "    </tr>\n",
       "    <tr>\n",
       "      <th>926942</th>\n",
       "      <td>5</td>\n",
       "      <td>Me and my husband loved it! It pretty much was...</td>\n",
       "    </tr>\n",
       "  </tbody>\n",
       "</table>\n",
       "<p>25000 rows × 2 columns</p>\n",
       "</div>"
      ],
      "text/plain": [
       "         class_index                                        review_text\n",
       "534255             2  I thought after \"The Dante Club\" that the auth...\n",
       "2244919            5  This is a great resource for a home/classroom ...\n",
       "2800737            2  Accessible blades without opening is nice opti...\n",
       "2129179            3  I liked the format of the book, and the explan...\n",
       "1158569            3  I loved this product when I got it. It didn't ...\n",
       "...              ...                                                ...\n",
       "200472             5  This CD rules! Every track is awesome and well...\n",
       "2196912            2  When I saw this game I thought it would be one...\n",
       "1929594            1  The keypad did not even last 2 days. I can not...\n",
       "731292             4  I use this book to teach a beginning workshop ...\n",
       "926942             5  Me and my husband loved it! It pretty much was...\n",
       "\n",
       "[25000 rows x 2 columns]"
      ]
     },
     "execution_count": 101,
     "metadata": {},
     "output_type": "execute_result"
    }
   ],
   "source": [
    "reduced_dataset = pd.DataFrame()\n",
    "for class_index in range(1, 6):\n",
    "    class_rows = dataset[dataset['class_index'] == class_index]\n",
    "    sampled_rows = class_rows.sample(n=5000, random_state=42)\n",
    "    reduced_dataset = pd.concat([reduced_dataset, sampled_rows])\n",
    "    \n",
    "reduced_dataset = reduced_dataset.sample(frac=1, random_state=42)\n",
    "reduced_dataset"
   ]
  },
  {
   "cell_type": "code",
   "execution_count": 102,
   "id": "d77e95b8",
   "metadata": {},
   "outputs": [
    {
     "name": "stderr",
     "output_type": "stream",
     "text": [
      "C:\\Users\\lsaid\\AppData\\Local\\Temp\\ipykernel_15424\\3027146610.py:3: FutureWarning: pandas.value_counts is deprecated and will be removed in a future version. Use pd.Series(obj).value_counts() instead.\n",
      "  pd.value_counts(reduced_dataset['class_index']).plot.bar(title=\"Rating distribution in dataset\")\n"
     ]
    },
    {
     "data": {
      "image/png": "[encoded data removed]",
      "text/plain": [
       "<Figure size 640x480 with 1 Axes>"
      ]
     },
     "metadata": {},
     "output_type": "display_data"
    }
   ],
   "source": [
    "import matplotlib.pyplot as plt\n",
    "plt.figure()\n",
    "pd.value_counts(reduced_dataset['class_index']).plot.bar(title=\"Rating distribution in dataset\")\n",
    "plt.xlabel(\"Rating\")\n",
    "plt.ylabel(\"No. of rows in df\")\n",
    "plt.show()"
   ]
  },
  {
   "cell_type": "code",
   "execution_count": 103,
   "id": "ffc1fd42",
   "metadata": {},
   "outputs": [],
   "source": [
    "from nltk.tokenize import word_tokenize\n",
    "from nltk.stem import PorterStemmer\n",
    "import string\n",
    "\n",
    "#nltk.download('punkt')"
   ]
  },
  {
   "cell_type": "code",
   "execution_count": 104,
   "id": "f524e1cf",
   "metadata": {},
   "outputs": [],
   "source": [
    "def preprocess_text(text):\n",
    "    # Lowercasing\n",
    "    text = text.lower()\n",
    "    \n",
    "    # Tokenization\n",
    "    tokens = word_tokenize(text)\n",
    "    \n",
    "    # Removing punctuation\n",
    "    tokens = [token for token in tokens if token not in string.punctuation]\n",
    "    \n",
    "    # Removing stopwords\n",
    "    stop_words = set(stopwords.words('english'))\n",
    "    tokens = [token for token in tokens if token not in stop_words]\n",
    "    \n",
    "    # Stemming\n",
    "    stemmer = PorterStemmer()\n",
    "    tokens = [stemmer.stem(token) for token in tokens]\n",
    "    \n",
    "    return tokens"
   ]
  },
  {
   "cell_type": "code",
   "execution_count": 105,
   "id": "c790d5f3",
   "metadata": {},
   "outputs": [
    {
     "name": "stderr",
     "output_type": "stream",
     "text": [
      "C:\\Users\\lsaid\\AppData\\Local\\Temp\\ipykernel_15424\\2635661160.py:3: FutureWarning: Setting an item of incompatible dtype is deprecated and will raise in a future error of pandas. Value 'thought `` dant club '' author would experienc better edit even trap cross-countri flight could keep interest plot major charact author good job imit leisur feverish 19th prose 21st centuri n't endless read time wealthi person 19th centuri feverish write 'll return book t. c. boyl leisur classic 19th centuri literatur' has dtype incompatible with float64, please explicitly cast to a compatible dtype first.\n",
      "  reduced_dataset.at[index, \"review_tokenized\"] = tokenized_text\n"
     ]
    },
    {
     "data": {
      "text/html": [
       "<div>\n",
       "<style scoped>\n",
       "    .dataframe tbody tr th:only-of-type {\n",
       "        vertical-align: middle;\n",
       "    }\n",
       "\n",
       "    .dataframe tbody tr th {\n",
       "        vertical-align: top;\n",
       "    }\n",
       "\n",
       "    .dataframe thead th {\n",
       "        text-align: right;\n",
       "    }\n",
       "</style>\n",
       "<table border=\"1\" class=\"dataframe\">\n",
       "  <thead>\n",
       "    <tr style=\"text-align: right;\">\n",
       "      <th></th>\n",
       "      <th>class_index</th>\n",
       "      <th>review_text</th>\n",
       "      <th>review_tokenized</th>\n",
       "    </tr>\n",
       "  </thead>\n",
       "  <tbody>\n",
       "    <tr>\n",
       "      <th>534255</th>\n",
       "      <td>2</td>\n",
       "      <td>I thought after \"The Dante Club\" that the auth...</td>\n",
       "      <td>thought `` dant club '' author would experienc...</td>\n",
       "    </tr>\n",
       "    <tr>\n",
       "      <th>2244919</th>\n",
       "      <td>5</td>\n",
       "      <td>This is a great resource for a home/classroom ...</td>\n",
       "      <td>great resourc home/classroom refer librari cle...</td>\n",
       "    </tr>\n",
       "    <tr>\n",
       "      <th>2800737</th>\n",
       "      <td>2</td>\n",
       "      <td>Accessible blades without opening is nice opti...</td>\n",
       "      <td>access blade without open nice option howev ph...</td>\n",
       "    </tr>\n",
       "    <tr>\n",
       "      <th>2129179</th>\n",
       "      <td>3</td>\n",
       "      <td>I liked the format of the book, and the explan...</td>\n",
       "      <td>like format book explan answer thorough outdat...</td>\n",
       "    </tr>\n",
       "    <tr>\n",
       "      <th>1158569</th>\n",
       "      <td>3</td>\n",
       "      <td>I loved this product when I got it. It didn't ...</td>\n",
       "      <td>love product got n't last tat long within mont...</td>\n",
       "    </tr>\n",
       "    <tr>\n",
       "      <th>...</th>\n",
       "      <td>...</td>\n",
       "      <td>...</td>\n",
       "      <td>...</td>\n",
       "    </tr>\n",
       "    <tr>\n",
       "      <th>200472</th>\n",
       "      <td>5</td>\n",
       "      <td>This CD rules! Every track is awesome and well...</td>\n",
       "      <td>cd rule everi track awesom well-worth listen s...</td>\n",
       "    </tr>\n",
       "    <tr>\n",
       "      <th>2196912</th>\n",
       "      <td>2</td>\n",
       "      <td>When I saw this game I thought it would be one...</td>\n",
       "      <td>saw game thought would one fun easi fish game ...</td>\n",
       "    </tr>\n",
       "    <tr>\n",
       "      <th>1929594</th>\n",
       "      <td>1</td>\n",
       "      <td>The keypad did not even last 2 days. I can not...</td>\n",
       "      <td>keypad even last 2 day use 6th key work one 5 ...</td>\n",
       "    </tr>\n",
       "    <tr>\n",
       "      <th>731292</th>\n",
       "      <td>4</td>\n",
       "      <td>I use this book to teach a beginning workshop ...</td>\n",
       "      <td>use book teach begin workshop public relat non...</td>\n",
       "    </tr>\n",
       "    <tr>\n",
       "      <th>926942</th>\n",
       "      <td>5</td>\n",
       "      <td>Me and my husband loved it! It pretty much was...</td>\n",
       "      <td>husband love pretti much right need hear time</td>\n",
       "    </tr>\n",
       "  </tbody>\n",
       "</table>\n",
       "<p>25000 rows × 3 columns</p>\n",
       "</div>"
      ],
      "text/plain": [
       "         class_index                                        review_text  \\\n",
       "534255             2  I thought after \"The Dante Club\" that the auth...   \n",
       "2244919            5  This is a great resource for a home/classroom ...   \n",
       "2800737            2  Accessible blades without opening is nice opti...   \n",
       "2129179            3  I liked the format of the book, and the explan...   \n",
       "1158569            3  I loved this product when I got it. It didn't ...   \n",
       "...              ...                                                ...   \n",
       "200472             5  This CD rules! Every track is awesome and well...   \n",
       "2196912            2  When I saw this game I thought it would be one...   \n",
       "1929594            1  The keypad did not even last 2 days. I can not...   \n",
       "731292             4  I use this book to teach a beginning workshop ...   \n",
       "926942             5  Me and my husband loved it! It pretty much was...   \n",
       "\n",
       "                                          review_tokenized  \n",
       "534255   thought `` dant club '' author would experienc...  \n",
       "2244919  great resourc home/classroom refer librari cle...  \n",
       "2800737  access blade without open nice option howev ph...  \n",
       "2129179  like format book explan answer thorough outdat...  \n",
       "1158569  love product got n't last tat long within mont...  \n",
       "...                                                    ...  \n",
       "200472   cd rule everi track awesom well-worth listen s...  \n",
       "2196912  saw game thought would one fun easi fish game ...  \n",
       "1929594  keypad even last 2 day use 6th key work one 5 ...  \n",
       "731292   use book teach begin workshop public relat non...  \n",
       "926942       husband love pretti much right need hear time  \n",
       "\n",
       "[25000 rows x 3 columns]"
      ]
     },
     "execution_count": 105,
     "metadata": {},
     "output_type": "execute_result"
    }
   ],
   "source": [
    "for index, row in reduced_dataset.iterrows():\n",
    "    tokenized_text = ' '.join(preprocess_text(row[\"review_text\"]))\n",
    "    reduced_dataset.at[index, \"review_tokenized\"] = tokenized_text\n",
    "\n",
    "reduced_dataset"
   ]
  },
  {
   "cell_type": "code",
   "execution_count": 106,
   "id": "0c81348d",
   "metadata": {},
   "outputs": [],
   "source": [
    "reduced_dataset[\"sentiment_class\"] = reduced_dataset[\"class_index\"].apply(lambda x: 1 if x > 3 else (2 if x == 3 else 0))"
   ]
  },
  {
   "cell_type": "code",
   "execution_count": 107,
   "id": "b6f233ed",
   "metadata": {},
   "outputs": [],
   "source": [
    "reduced_dataset = reduced_dataset[reduced_dataset['class_index'] != 3]"
   ]
  },
  {
   "cell_type": "markdown",
   "id": "feaed8c1",
   "metadata": {},
   "source": [
    "# Text processing"
   ]
  },
  {
   "cell_type": "code",
   "execution_count": 108,
   "id": "93e35db5",
   "metadata": {},
   "outputs": [],
   "source": [
    "from tensorflow.keras.preprocessing.text import Tokenizer\n",
    "from tensorflow.keras.preprocessing.sequence import pad_sequences\n",
    "from sklearn.model_selection import train_test_split\n",
    "from sklearn.preprocessing import LabelEncoder"
   ]
  },
  {
   "cell_type": "code",
   "execution_count": 109,
   "id": "1fd6cb2d",
   "metadata": {},
   "outputs": [],
   "source": [
    "encoder = LabelEncoder()\n",
    "X = list(reduced_dataset['review_tokenized'])\n",
    "y = encoder.fit_transform(reduced_dataset['sentiment_class'])"
   ]
  },
  {
   "cell_type": "code",
   "execution_count": 110,
   "id": "afdd12ac",
   "metadata": {},
   "outputs": [],
   "source": [
    "X_train, X_test, y_train, y_test = train_test_split(X, y, test_size=0.2, random_state=42)"
   ]
  },
  {
   "cell_type": "code",
   "execution_count": 111,
   "id": "d5d3fc2f",
   "metadata": {},
   "outputs": [],
   "source": [
    "tokenizer = Tokenizer()\n",
    "tokenizer.fit_on_texts(X_train)"
   ]
  },
  {
   "cell_type": "code",
   "execution_count": 112,
   "id": "dcdbe1af",
   "metadata": {},
   "outputs": [],
   "source": [
    "X_train = tokenizer.texts_to_sequences(X_train)\n",
    "X_test = tokenizer.texts_to_sequences(X_test)"
   ]
  },
  {
   "cell_type": "code",
   "execution_count": 113,
   "id": "156b83dc",
   "metadata": {},
   "outputs": [
    {
     "data": {
      "text/plain": [
       "33204"
      ]
     },
     "execution_count": 113,
     "metadata": {},
     "output_type": "execute_result"
    }
   ],
   "source": [
    "voc_length = len(tokenizer.word_index)+1\n",
    "voc_length"
   ]
  },
  {
   "cell_type": "code",
   "execution_count": 114,
   "id": "32c00b24",
   "metadata": {},
   "outputs": [],
   "source": [
    "max_len = 100\n",
    "X_train = pad_sequences(X_train, padding='post', maxlen=max_len)\n",
    "X_test = pad_sequences(X_test, padding='post', maxlen=max_len)"
   ]
  },
  {
   "cell_type": "code",
   "execution_count": 115,
   "id": "ebb19e79",
   "metadata": {},
   "outputs": [],
   "source": [
    "embedding_dic = dict()\n",
    "glove_file = open('../models/a2_glove.6B.100d.txt', encoding='utf-8')"
   ]
  },
  {
   "cell_type": "code",
   "execution_count": 116,
   "id": "07032463",
   "metadata": {},
   "outputs": [],
   "source": [
    "for line in glove_file:\n",
    "    values = line.split()\n",
    "    word = values[0]\n",
    "    vec_dim = np.asarray(values[1:], dtype='float32')\n",
    "    embedding_dic[word] = vec_dim\n",
    "glove_file.close()"
   ]
  },
  {
   "cell_type": "code",
   "execution_count": 117,
   "id": "420820fe",
   "metadata": {},
   "outputs": [
    {
     "data": {
      "text/plain": [
       "(33204, 100)"
      ]
     },
     "execution_count": 117,
     "metadata": {},
     "output_type": "execute_result"
    }
   ],
   "source": [
    "embedding_matrix = np.zeros((voc_length,100))\n",
    "for word, i in tokenizer.word_index.items():\n",
    "    embedding_vector = embedding_dic.get(word)\n",
    "    if embedding_vector is not None:\n",
    "        embedding_matrix[i] = embedding_vector\n",
    "embedding_matrix.shape"
   ]
  },
  {
   "cell_type": "markdown",
   "id": "953c34e1",
   "metadata": {},
   "source": [
    "# Modelling and testing"
   ]
  },
  {
   "cell_type": "code",
   "execution_count": 118,
   "id": "0b2d522f",
   "metadata": {},
   "outputs": [],
   "source": [
    "from tensorflow.keras.models import Sequential\n",
    "from tensorflow.keras.layers import Embedding, LSTM, Dense, Dropout\n",
    "from keras.layers import Flatten, GlobalMaxPooling1D, Embedding, Conv1D, LSTM"
   ]
  },
  {
   "cell_type": "code",
   "execution_count": 119,
   "id": "6a11022b",
   "metadata": {},
   "outputs": [
    {
     "name": "stdout",
     "output_type": "stream",
     "text": [
      "Model: \"sequential_3\"\n",
      "_________________________________________________________________\n",
      " Layer (type)                Output Shape              Param #   \n",
      "=================================================================\n",
      " embedding_3 (Embedding)     (None, 100, 100)          3320400   \n",
      "                                                                 \n",
      " conv1d_2 (Conv1D)           (None, 96, 128)           64128     \n",
      "                                                                 \n",
      " global_max_pooling1d_2 (Gl  (None, 128)               0         \n",
      " obalMaxPooling1D)                                               \n",
      "                                                                 \n",
      " dense_3 (Dense)             (None, 1)                 129       \n",
      "                                                                 \n",
      "=================================================================\n",
      "Total params: 3384657 (12.91 MB)\n",
      "Trainable params: 64257 (251.00 KB)\n",
      "Non-trainable params: 3320400 (12.67 MB)\n",
      "_________________________________________________________________\n",
      "None\n",
      "Epoch 1/6\n",
      "32/32 [==============================] - 4s 90ms/step - loss: 0.7112 - acc: 0.5794 - val_loss: 0.6120 - val_acc: 0.6705\n",
      "Epoch 2/6\n",
      "32/32 [==============================] - 3s 84ms/step - loss: 0.5733 - acc: 0.7091 - val_loss: 0.5674 - val_acc: 0.7120\n",
      "Epoch 3/6\n",
      "32/32 [==============================] - 3s 88ms/step - loss: 0.5220 - acc: 0.7534 - val_loss: 0.5396 - val_acc: 0.7275\n",
      "Epoch 4/6\n",
      "32/32 [==============================] - 3s 85ms/step - loss: 0.4839 - acc: 0.7826 - val_loss: 0.5239 - val_acc: 0.7390\n",
      "Epoch 5/6\n",
      "32/32 [==============================] - 3s 88ms/step - loss: 0.4569 - acc: 0.8019 - val_loss: 0.5290 - val_acc: 0.7390\n",
      "Epoch 6/6\n",
      "32/32 [==============================] - 3s 85ms/step - loss: 0.4311 - acc: 0.8175 - val_loss: 0.5032 - val_acc: 0.7533\n"
     ]
    }
   ],
   "source": [
    "cnn_model = Sequential()\n",
    "\n",
    "embedding_layer = Embedding(voc_length, 100, weights=[embedding_matrix], input_length=max_len , trainable=False)\n",
    "cnn_model.add(embedding_layer)\n",
    "\n",
    "cnn_model.add(Conv1D(128, 5, activation='relu'))\n",
    "cnn_model.add(GlobalMaxPooling1D())\n",
    "cnn_model.add(Dense(1, activation='sigmoid'))\n",
    "cnn_model.compile(optimizer='adam', loss='binary_crossentropy', metrics=['acc'])\n",
    "print(cnn_model.summary())\n",
    "\n",
    "model_history = cnn_model.fit(X_train, y_train, batch_size=512, epochs=6, verbose=1, validation_data=(X_test, y_test))"
   ]
  },
  {
   "cell_type": "code",
   "execution_count": 120,
   "id": "0034c6fa",
   "metadata": {},
   "outputs": [
    {
     "name": "stdout",
     "output_type": "stream",
     "text": [
      "Model: \"sequential_4\"\n",
      "_________________________________________________________________\n",
      " Layer (type)                Output Shape              Param #   \n",
      "=================================================================\n",
      " embedding_4 (Embedding)     (None, 100, 100)          3320400   \n",
      "                                                                 \n",
      " lstm_1 (LSTM)               (None, 128)               117248    \n",
      "                                                                 \n",
      " dense_4 (Dense)             (None, 1)                 129       \n",
      "                                                                 \n",
      "=================================================================\n",
      "Total params: 3437777 (13.11 MB)\n",
      "Trainable params: 117377 (458.50 KB)\n",
      "Non-trainable params: 3320400 (12.67 MB)\n",
      "_________________________________________________________________\n",
      "None\n",
      "Epoch 1/6\n",
      "32/32 [==============================] - 26s 778ms/step - loss: 0.6931 - acc: 0.4976 - val_loss: 0.6916 - val_acc: 0.5290\n",
      "Epoch 2/6\n",
      "32/32 [==============================] - 11s 339ms/step - loss: 0.6432 - acc: 0.6384 - val_loss: 0.6504 - val_acc: 0.6593\n",
      "Epoch 3/6\n",
      "32/32 [==============================] - 11s 336ms/step - loss: 0.6072 - acc: 0.6923 - val_loss: 0.6037 - val_acc: 0.6817\n",
      "Epoch 4/6\n",
      "32/32 [==============================] - 10s 325ms/step - loss: 0.5848 - acc: 0.7098 - val_loss: 0.5936 - val_acc: 0.6790\n",
      "Epoch 5/6\n",
      "32/32 [==============================] - 10s 324ms/step - loss: 0.5647 - acc: 0.7157 - val_loss: 0.5651 - val_acc: 0.7193\n",
      "Epoch 6/6\n",
      "32/32 [==============================] - 11s 332ms/step - loss: 0.5507 - acc: 0.7273 - val_loss: 0.5644 - val_acc: 0.7295\n"
     ]
    }
   ],
   "source": [
    "lstm_model = Sequential()\n",
    "embedding_layer = Embedding(voc_length, 100, weights=[embedding_matrix], input_length=max_len , trainable=False)\n",
    "\n",
    "lstm_model.add(embedding_layer)\n",
    "lstm_model.add(LSTM(128))\n",
    "\n",
    "lstm_model.add(Dense(1, activation='sigmoid'))\n",
    "lstm_model.compile(optimizer='adam', loss='binary_crossentropy', metrics=['acc'])\n",
    "print(lstm_model.summary())\n",
    "\n",
    "lstm_history = lstm_model.fit(X_train, y_train, batch_size=512, epochs=6, verbose=1, validation_data=(X_test, y_test))"
   ]
  },
  {
   "cell_type": "markdown",
   "id": "a9a347cb",
   "metadata": {},
   "source": [
    "The CNN model have a great accuracy on binary classification here. What we are aiming is 5-class classification at the end but the accuracy drastically drops to 25%. We could take multiple reasons in consideration to explain this drops in accuracy :\n",
    "* Vectorization method of sentences\n",
    "* Words Embedding methods\n",
    "* Lack of datas\n",
    "\n",
    "For now, we will export the model as it is and try to do some single prediction on it"
   ]
  },
  {
   "cell_type": "code",
   "execution_count": 121,
   "id": "e2db08fc",
   "metadata": {},
   "outputs": [
    {
     "name": "stdout",
     "output_type": "stream",
     "text": [
      "1/1 [==============================] - 0s 57ms/step\n",
      "[[0.8366076]]\n"
     ]
    },
    {
     "data": {
      "text/plain": [
       "1"
      ]
     },
     "execution_count": 121,
     "metadata": {},
     "output_type": "execute_result"
    }
   ],
   "source": [
    "review = dataset.iloc[151564, :][\"review_text\"]\n",
    "tokenized_review = ' '.join(preprocess_text(review))\n",
    "sequences = tokenizer.texts_to_sequences([tokenized_text])\n",
    "padded_sequence = pad_sequences(sequences, padding='post', maxlen=max_len)\n",
    "prediction = cnn_model.predict(padded_sequence)\n",
    "print(prediction)\n",
    "sentiment_class = 1 if prediction[0] > 0.5 else 0\n",
    "sentiment_class"
   ]
  },
  {
   "cell_type": "markdown",
   "id": "a52cb0ea",
   "metadata": {},
   "source": [
    "# Single prediction"
   ]
  },
  {
   "cell_type": "code",
   "execution_count": 157,
   "id": "b043d700",
   "metadata": {},
   "outputs": [],
   "source": [
    "def single_predict(review, tokenizer, model, maxlen=100):\n",
    "    tokenized_review = ' '.join(preprocess_text(review))\n",
    "    sequences = tokenizer.texts_to_sequences([tokenized_review])\n",
    "    padded_sequence = pad_sequences(sequences, padding='post', maxlen=maxlen)\n",
    "    prediction = model.predict(padded_sequence)\n",
    "    sentiment_class = 1 if prediction[0] > 0.5 else 0\n",
    "    return sentiment_class"
   ]
  },
  {
   "cell_type": "markdown",
   "id": "22053a56",
   "metadata": {},
   "source": [
    "## For positive review"
   ]
  },
  {
   "cell_type": "code",
   "execution_count": 158,
   "id": "8f305972",
   "metadata": {},
   "outputs": [
    {
     "data": {
      "text/plain": [
       "class_index                                                    5\n",
       "review_text    I hope a lot of people hear this cd. We need m...\n",
       "Name: 1, dtype: object"
      ]
     },
     "execution_count": 158,
     "metadata": {},
     "output_type": "execute_result"
    }
   ],
   "source": [
    "dataset.iloc[1, :]"
   ]
  },
  {
   "cell_type": "code",
   "execution_count": 159,
   "id": "86bcbef8",
   "metadata": {},
   "outputs": [
    {
     "data": {
      "text/plain": [
       "'I hope a lot of people hear this cd. We need more strong and positive vibes like this. Great vocals, fresh tunes, cross-cultural happiness. Her blues is from the gut. The pop sounds are catchy and mature.'"
      ]
     },
     "execution_count": 159,
     "metadata": {},
     "output_type": "execute_result"
    }
   ],
   "source": [
    "dataset.iloc[1, :][\"review_text\"]"
   ]
  },
  {
   "cell_type": "code",
   "execution_count": 173,
   "id": "b9220666",
   "metadata": {
    "scrolled": true
   },
   "outputs": [
    {
     "name": "stdout",
     "output_type": "stream",
     "text": [
      "1/1 [==============================] - 0s 27ms/step\n",
      "Predicted sentiment class: 1\n"
     ]
    }
   ],
   "source": [
    "pst_prediction = single_predict(\n",
    "    dataset.iloc[1, :][\"review_text\"],\n",
    "    tokenizer,\n",
    "    cnn_model,\n",
    "    100\n",
    ")\n",
    "print(\"Predicted sentiment class:\", pst_prediction)"
   ]
  },
  {
   "cell_type": "markdown",
   "id": "90928dc7",
   "metadata": {},
   "source": [
    "## For negative review"
   ]
  },
  {
   "cell_type": "code",
   "execution_count": 174,
   "id": "8bc943e5",
   "metadata": {},
   "outputs": [
    {
     "data": {
      "text/plain": [
       "class_index                                                    1\n",
       "review_text    I plugged this item into my laptop and nothing...\n",
       "Name: 999, dtype: object"
      ]
     },
     "execution_count": 174,
     "metadata": {},
     "output_type": "execute_result"
    }
   ],
   "source": [
    "dataset.iloc[999, :]"
   ]
  },
  {
   "cell_type": "code",
   "execution_count": 175,
   "id": "5d38ab6f",
   "metadata": {},
   "outputs": [
    {
     "data": {
      "text/plain": [
       "'I plugged this item into my laptop and nothing happened. No power- nothing.When I unplugged this adapter the negative metal ring from the plug stayed lodged inside of my computer, I had to remove it with needle nose pliers.I had to call the company 5 times before getting a rep on the phone as I was continually placed in automated limbo for about 15 per call. The rep actually admitted to me that this happens alot because the rings are too small and fit to tight in the computers.I was really looking forward to saving some dough. But this adapter was surprisingly worse the the original that came with the computer.They are sending me return authorization.'"
      ]
     },
     "execution_count": 175,
     "metadata": {},
     "output_type": "execute_result"
    }
   ],
   "source": [
    "dataset.iloc[999, :][\"review_text\"]"
   ]
  },
  {
   "cell_type": "code",
   "execution_count": 176,
   "id": "978452b9",
   "metadata": {
    "scrolled": true
   },
   "outputs": [
    {
     "name": "stdout",
     "output_type": "stream",
     "text": [
      "1/1 [==============================] - 0s 28ms/step\n",
      "Predicted sentiment class: 0\n"
     ]
    }
   ],
   "source": [
    "ngt_prediction = single_predict(\n",
    "    dataset.iloc[999, :][\"review_text\"],\n",
    "    tokenizer,\n",
    "    cnn_model,\n",
    "    100\n",
    ")\n",
    "print(\"Predicted sentiment class:\", ngt_prediction)"
   ]
  },
  {
   "cell_type": "markdown",
   "id": "129b2aeb",
   "metadata": {},
   "source": [
    "# Export models"
   ]
  },
  {
   "cell_type": "code",
   "execution_count": 177,
   "id": "60027815",
   "metadata": {},
   "outputs": [],
   "source": [
    "import pickle\n",
    "\n",
    "with open('../models/binary_classification/tokenizer.pkl', 'wb') as f:\n",
    "    pickle.dump(tokenizer, f)\n",
    "    \n",
    "with open('../models/binary_classification/model.pkl', 'wb') as f:\n",
    "    pickle.dump(cnn_model, f)"
   ]
  }
 ],
 "metadata": {
  "kernelspec": {
   "display_name": "Python 3 (ipykernel)",
   "language": "python",
   "name": "python3"
  },
  "language_info": {
   "codemirror_mode": {
    "name": "ipython",
    "version": 3
   },
   "file_extension": ".py",
   "mimetype": "text/x-python",
   "name": "python",
   "nbconvert_exporter": "python",
   "pygments_lexer": "ipython3",
   "version": "3.11.4"
  }
 },
 "nbformat": 4,
 "nbformat_minor": 5
}
